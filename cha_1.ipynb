{
 "cells": [
  {
   "cell_type": "code",
   "execution_count": 57,
   "id": "9b38eb5c-47da-4c7d-94b9-81421678d9ae",
   "metadata": {},
   "outputs": [],
   "source": [
    "###challenge 1\n",
    "liste_domaine=[]\n",
    "\n",
    "def domaine_extraction(liste):\n",
    "    for string in liste:\n",
    "        domaine = string.split('@') ### split the sentence base on @ \n",
    "        liste_domaine.append(domaine[1]) ### it return a liste of two element , we will take the second \n",
    "    return set(liste_domaine) ### return no dublicate domaine"
   ]
  },
  {
   "cell_type": "code",
   "execution_count": 58,
   "id": "09ae3025-8d17-4eda-8769-f246fd5d2f54",
   "metadata": {},
   "outputs": [
    {
     "data": {
      "text/plain": [
       "{'gmail.com', 'hotmail.com'}"
      ]
     },
     "execution_count": 58,
     "metadata": {},
     "output_type": "execute_result"
    }
   ],
   "source": [
    "liste_1=['anineioe.as@gmail.com' , 'ewwerwer-eww@hotmail.com' , 'sdjfnwenfie@gmail.com']\n",
    "domaine_extraction(liste_1)"
   ]
  },
  {
   "cell_type": "code",
   "execution_count": 59,
   "id": "7e492888-531b-4f5e-8b3d-f01f1a837ea2",
   "metadata": {},
   "outputs": [],
   "source": [
    "## challenge 2 \n",
    "final_liste=[]\n",
    "\n",
    "def name_normalisation(liste):\n",
    "    for string in liste : \n",
    "        name=string.strip().upper()\n",
    "        final_liste.append(name)\n",
    "    return final_liste"
   ]
  },
  {
   "cell_type": "code",
   "execution_count": 60,
   "id": "5d94d7ba-3588-4026-8c5c-061d665031c8",
   "metadata": {},
   "outputs": [
    {
     "data": {
      "text/plain": [
       "['ASDOA', 'SDWDE', 'DSFEWERF']"
      ]
     },
     "execution_count": 60,
     "metadata": {},
     "output_type": "execute_result"
    }
   ],
   "source": [
    "name_liste=['asdoa' , '   sdwde' , ' dsfewerf  ']\n",
    "name_normalisation(name_liste)"
   ]
  },
  {
   "cell_type": "code",
   "execution_count": 72,
   "id": "a1b4e786-afdb-4cb5-a3b3-4a1755ad9fb8",
   "metadata": {},
   "outputs": [],
   "source": [
    "## challenge 3\n",
    "def date_convert(date):\n",
    "    date=date.split('/')\n",
    "    liste=list(reversed(date))\n",
    "    return '-'.join(liste)"
   ]
  },
  {
   "cell_type": "code",
   "execution_count": 73,
   "id": "fdcf699e-f5b7-42ae-a10a-58cf78397e87",
   "metadata": {},
   "outputs": [
    {
     "data": {
      "text/plain": [
       "'1998-23-12'"
      ]
     },
     "execution_count": 73,
     "metadata": {},
     "output_type": "execute_result"
    }
   ],
   "source": [
    "date='12/23/1998'\n",
    "date_convert(date)"
   ]
  },
  {
   "cell_type": "code",
   "execution_count": 90,
   "id": "e17788cd-563d-48cd-924c-99f957d50853",
   "metadata": {},
   "outputs": [],
   "source": [
    "###challenge 4\n",
    "def remplace(text) :\n",
    "    print('original sentence : ' , text)\n",
    "    old_word=input('please select the world that you want to replace')\n",
    "    while old_word not in text.split():\n",
    "            print(\"specify a existing word\")\n",
    "            old_word=input('please select the world that you want to replace')\n",
    "    \n",
    "    new_word=input('please specifie the new word')\n",
    "    text_1=text.replace(old_word , new_word)\n",
    "    return print('new sentence is :' , text_1)\n",
    "    "
   ]
  },
  {
   "cell_type": "code",
   "execution_count": 91,
   "id": "e6bfd341-90af-4537-b184-d5dc85f2bbc7",
   "metadata": {},
   "outputs": [
    {
     "name": "stdout",
     "output_type": "stream",
     "text": [
      "original sentence :  hey my name is aminee\n"
     ]
    },
    {
     "name": "stdout",
     "output_type": "stream",
     "text": [
      "please select the world that you want to replace amine\n"
     ]
    },
    {
     "name": "stdout",
     "output_type": "stream",
     "text": [
      "specify a existing word\n"
     ]
    },
    {
     "name": "stdout",
     "output_type": "stream",
     "text": [
      "please select the world that you want to replace aminee\n",
      "please specifie the new word red\n"
     ]
    },
    {
     "name": "stdout",
     "output_type": "stream",
     "text": [
      "new sentence is : hey my name is red\n"
     ]
    }
   ],
   "source": [
    "text ='hey my name is aminee'\n",
    "remplace(text)"
   ]
  },
  {
   "cell_type": "code",
   "execution_count": null,
   "id": "2ea0c26e-4a7b-4f97-8e1a-96affc58830d",
   "metadata": {},
   "outputs": [],
   "source": [
    "##challenge 5 "
   ]
  },
  {
   "cell_type": "code",
   "execution_count": 97,
   "id": "99b58886-175d-443b-802d-745fef63d646",
   "metadata": {},
   "outputs": [],
   "source": [
    "def prefix_verification(string):\n",
    "    print(string.startswith('log_'))\n",
    "    "
   ]
  },
  {
   "cell_type": "code",
   "execution_count": 99,
   "id": "d58c5721-d910-4430-b602-3b9b09eaafdc",
   "metadata": {},
   "outputs": [
    {
     "name": "stdout",
     "output_type": "stream",
     "text": [
      "True\n"
     ]
    }
   ],
   "source": [
    "string =  'log_adad'\n",
    "prefix_verification(string)"
   ]
  }
 ],
 "metadata": {
  "kernelspec": {
   "display_name": "Python 3 (ipykernel)",
   "language": "python",
   "name": "python3"
  },
  "language_info": {
   "codemirror_mode": {
    "name": "ipython",
    "version": 3
   },
   "file_extension": ".py",
   "mimetype": "text/x-python",
   "name": "python",
   "nbconvert_exporter": "python",
   "pygments_lexer": "ipython3",
   "version": "3.12.7"
  }
 },
 "nbformat": 4,
 "nbformat_minor": 5
}
